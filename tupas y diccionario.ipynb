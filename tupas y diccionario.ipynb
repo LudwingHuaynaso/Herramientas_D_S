{
 "cells": [
  {
   "cell_type": "markdown",
   "metadata": {},
   "source": [
    "   PYTHON TUPLA \n",
    "\n",
    "Aquí hay un ejemplo de cómo acceder a un elemento de una tupla:"
   ]
  },
  {
   "cell_type": "code",
   "execution_count": 3,
   "metadata": {},
   "outputs": [
    {
     "name": "stdout",
     "output_type": "stream",
     "text": [
      "3\n"
     ]
    }
   ],
   "source": [
    "mi_tupla = (1, 2, 3, 4)\n",
    "print(mi_tupla[2]) # Imprime 3"
   ]
  },
  {
   "cell_type": "markdown",
   "metadata": {},
   "source": [
    "También se puede utilizar una variable para almacenar el índice y acceder al elemento correspondiente:"
   ]
  },
  {
   "cell_type": "code",
   "execution_count": 4,
   "metadata": {},
   "outputs": [
    {
     "name": "stdout",
     "output_type": "stream",
     "text": [
      "3\n"
     ]
    }
   ],
   "source": [
    "mi_tupla = (1, 2, 3, 4)\n",
    "indice = 2\n",
    "print(mi_tupla[indice]) # Imprime 3"
   ]
  },
  {
   "cell_type": "markdown",
   "metadata": {},
   "source": [
    "Aquí hay un ejemplo de cómo acceder a un elemento de una tupla utilizando una indexación negativa:"
   ]
  },
  {
   "cell_type": "code",
   "execution_count": 5,
   "metadata": {},
   "outputs": [
    {
     "name": "stdout",
     "output_type": "stream",
     "text": [
      "3\n"
     ]
    }
   ],
   "source": [
    "mi_tupla = (1, 2, 3, 4)\n",
    "print(mi_tupla[-2]) # Imprime 3"
   ]
  },
  {
   "cell_type": "markdown",
   "metadata": {},
   "source": [
    "Aquí hay un ejemplo de cómo acceder a una gama de elementos de una tupla:"
   ]
  },
  {
   "cell_type": "code",
   "execution_count": 6,
   "metadata": {},
   "outputs": [
    {
     "name": "stdout",
     "output_type": "stream",
     "text": [
      "(2, 3)\n"
     ]
    }
   ],
   "source": [
    "mi_tupla = (1, 2, 3, 4, 5)\n",
    "print(mi_tupla[1:3]) # Imprime (2, 3)"
   ]
  },
  {
   "cell_type": "markdown",
   "metadata": {},
   "source": [
    "Aquí hay un ejemplo de cómo acceder a todos los elementos desde el inicio de una tupla:"
   ]
  },
  {
   "cell_type": "code",
   "execution_count": 7,
   "metadata": {},
   "outputs": [
    {
     "name": "stdout",
     "output_type": "stream",
     "text": [
      "(1, 2, 3)\n"
     ]
    }
   ],
   "source": [
    "mi_tupla = (1, 2, 3, 4, 5)\n",
    "print(mi_tupla[:3]) # Imprime (1, 2, 3)"
   ]
  },
  {
   "cell_type": "markdown",
   "metadata": {},
   "source": [
    "Aquí hay un ejemplo de cómo acceder a todos los elementos hasta el final de una tupla:"
   ]
  },
  {
   "cell_type": "code",
   "execution_count": 8,
   "metadata": {},
   "outputs": [
    {
     "name": "stdout",
     "output_type": "stream",
     "text": [
      "(3, 4, 5)\n"
     ]
    }
   ],
   "source": [
    "mi_tupla = (1, 2, 3, 4, 5)\n",
    "print(mi_tupla[2:]) # Imprime (3, 4, 5)"
   ]
  },
  {
   "cell_type": "markdown",
   "metadata": {},
   "source": [
    "Aquí hay un ejemplo de cómo acceder a cada segundo elemento de una tupla:"
   ]
  },
  {
   "cell_type": "code",
   "execution_count": 9,
   "metadata": {},
   "outputs": [
    {
     "name": "stdout",
     "output_type": "stream",
     "text": [
      "(1, 3, 5)\n"
     ]
    }
   ],
   "source": [
    "mi_tupla = (1, 2, 3, 4, 5)\n",
    "print(mi_tupla[::2]) # Imprime (1, 3, 5)"
   ]
  },
  {
   "cell_type": "markdown",
   "metadata": {},
   "source": [
    "Aquí hay un ejemplo de cómo acceder a una gama de elementos de una tupla utilizando índices negativos:"
   ]
  },
  {
   "cell_type": "code",
   "execution_count": 10,
   "metadata": {},
   "outputs": [
    {
     "name": "stdout",
     "output_type": "stream",
     "text": [
      "(3, 4)\n"
     ]
    }
   ],
   "source": [
    "mi_tupla = (1, 2, 3, 4, 5)\n",
    "print(mi_tupla[-3:-1]) # Imprime (3, 4)"
   ]
  },
  {
   "cell_type": "markdown",
   "metadata": {},
   "source": [
    "Aquí hay un ejemplo de cómo acceder a cada segundo elemento de una tupla utilizando índices negativos:"
   ]
  },
  {
   "cell_type": "code",
   "execution_count": 11,
   "metadata": {},
   "outputs": [
    {
     "name": "stdout",
     "output_type": "stream",
     "text": [
      "(4, 2)\n"
     ]
    }
   ],
   "source": [
    "mi_tupla = (1, 2, 3, 4, 5)\n",
    "print(mi_tupla[-2::-2]) # Imprime (4, 2)"
   ]
  },
  {
   "cell_type": "markdown",
   "metadata": {},
   "source": [
    "Aquí hay un ejemplo de cómo comprobar si un elemento existe en una tupla:"
   ]
  },
  {
   "cell_type": "code",
   "execution_count": 12,
   "metadata": {},
   "outputs": [
    {
     "name": "stdout",
     "output_type": "stream",
     "text": [
      "True\n",
      "False\n"
     ]
    }
   ],
   "source": [
    "mi_tupla = (1, 2, 3, 4)\n",
    "print(2 in mi_tupla) # Imprime True\n",
    "print(5 in mi_tupla) # Imprime False"
   ]
  },
  {
   "cell_type": "markdown",
   "metadata": {},
   "source": [
    "Aquí hay un ejemplo de cómo comprobar si un elemento no existe en una tupla:"
   ]
  },
  {
   "cell_type": "code",
   "execution_count": 13,
   "metadata": {},
   "outputs": [
    {
     "name": "stdout",
     "output_type": "stream",
     "text": [
      "False\n",
      "True\n"
     ]
    }
   ],
   "source": [
    "mi_tupla = (1, 2, 3, 4)\n",
    "print(2 not in mi_tupla) # Imprime False\n",
    "print(5 not in mi_tupla) # Imprime True"
   ]
  },
  {
   "cell_type": "markdown",
   "metadata": {},
   "source": [
    "PYTHON DICCIONARIO\n",
    "\n",
    "Para crear un diccionario en Python, podemos utilizar llaves { } y separar cada par clave-valor con dos puntos:"
   ]
  },
  {
   "cell_type": "code",
   "execution_count": 14,
   "metadata": {},
   "outputs": [
    {
     "name": "stdout",
     "output_type": "stream",
     "text": [
      "{'Juan': 16, 'Ana': 18, 'Luis': 17}\n"
     ]
    }
   ],
   "source": [
    "estudiantes = {'Juan': 16, 'Ana': 18, 'Luis': 17}\n",
    "print(estudiantes) # {'Juan': 16, 'Ana': 18, 'Luis': 17}"
   ]
  },
  {
   "cell_type": "markdown",
   "metadata": {},
   "source": [
    "También podemos crear un diccionario utilizando la función dict() y pasando una lista de tuplas clave:valor:"
   ]
  },
  {
   "cell_type": "code",
   "execution_count": 15,
   "metadata": {},
   "outputs": [
    {
     "name": "stdout",
     "output_type": "stream",
     "text": [
      "{'Juan': 16, 'Ana': 18, 'Luis': 17}\n"
     ]
    }
   ],
   "source": [
    "estudiantes = dict([('Juan', 16), ('Ana', 18), ('Luis', 17)])\n",
    "print(estudiantes) # {'Juan': 16, 'Ana': 18, 'Luis': 17}"
   ]
  },
  {
   "cell_type": "markdown",
   "metadata": {},
   "source": [
    "Para agregar un elemento a un diccionario, podemos utilizar la sintaxis diccionario[nueva_clave] = nuevo_valor:"
   ]
  },
  {
   "cell_type": "code",
   "execution_count": 16,
   "metadata": {},
   "outputs": [
    {
     "name": "stdout",
     "output_type": "stream",
     "text": [
      "{'Juan': 16, 'Ana': 18, 'Luis': 17, 'Maria': 15}\n"
     ]
    }
   ],
   "source": [
    "estudiantes = {'Juan': 16, 'Ana': 18, 'Luis': 17}\n",
    "estudiantes['Maria'] = 15\n",
    "print(estudiantes) # {'Juan': 16, 'Ana': 18, 'Luis': 17, 'Maria': 15}"
   ]
  },
  {
   "cell_type": "markdown",
   "metadata": {},
   "source": [
    "Para modificar el valor de una clave existente en el diccionario, simplemente podemos asignar un nuevo valor a la clave:"
   ]
  },
  {
   "cell_type": "code",
   "execution_count": 17,
   "metadata": {},
   "outputs": [
    {
     "name": "stdout",
     "output_type": "stream",
     "text": [
      "{'Juan': 16, 'Ana': 19, 'Luis': 17}\n"
     ]
    }
   ],
   "source": [
    "estudiantes = {'Juan': 16, 'Ana': 18, 'Luis': 17}\n",
    "estudiantes['Ana'] = 19\n",
    "print(estudiantes) # {'Juan': 16, 'Ana': 19, 'Luis': 17}"
   ]
  },
  {
   "cell_type": "markdown",
   "metadata": {},
   "source": [
    "Para eliminar un elemento de un diccionario, podemos utilizar la palabra clave del seguida de la clave a eliminar:"
   ]
  },
  {
   "cell_type": "code",
   "execution_count": 18,
   "metadata": {},
   "outputs": [
    {
     "name": "stdout",
     "output_type": "stream",
     "text": [
      "{'Ana': 18, 'Luis': 17}\n"
     ]
    }
   ],
   "source": [
    "estudiantes = {'Juan': 16, 'Ana': 18, 'Luis': 17}\n",
    "del estudiantes['Juan']\n",
    "print(estudiantes) # {'Ana': 18, 'Luis': 17}"
   ]
  },
  {
   "cell_type": "markdown",
   "metadata": {},
   "source": [
    "Para acceder a los elementos de un diccionario, podemos utilizar la clave correspondiente:"
   ]
  },
  {
   "cell_type": "code",
   "execution_count": 19,
   "metadata": {},
   "outputs": [
    {
     "name": "stdout",
     "output_type": "stream",
     "text": [
      "18\n"
     ]
    }
   ],
   "source": [
    "estudiantes = {'Juan': 16, 'Ana': 18, 'Luis': 17}\n",
    "print(estudiantes['Ana']) # 18"
   ]
  },
  {
   "cell_type": "markdown",
   "metadata": {},
   "source": [
    "Si la clave no existe en el diccionario, se lanzará un error. Para evitar este error, podemos utilizar el método get():"
   ]
  },
  {
   "cell_type": "code",
   "execution_count": 20,
   "metadata": {},
   "outputs": [
    {
     "name": "stdout",
     "output_type": "stream",
     "text": [
      "No existe\n"
     ]
    }
   ],
   "source": [
    "estudiantes = {'Juan': 16, 'Ana': 18, 'Luis': 17}\n",
    "print(estudiantes.get('Maria', 'No existe')) # 'No existe'"
   ]
  },
  {
   "cell_type": "markdown",
   "metadata": {},
   "source": [
    "Podemos iterar a través de los elementos de un diccionario utilizando un bucle for. El bucle for itera a través de las claves por defecto, pero podemos acceder a los valores utilizando las claves:"
   ]
  },
  {
   "cell_type": "code",
   "execution_count": 21,
   "metadata": {},
   "outputs": [
    {
     "name": "stdout",
     "output_type": "stream",
     "text": [
      "Juan 16\n",
      "Ana 18\n",
      "Luis 17\n"
     ]
    }
   ],
   "source": [
    "estudiantes = {'Juan': 16, 'Ana': 18, 'Luis': 17}\n",
    "for clave in estudiantes:\n",
    "    print(clave, estudiantes[clave])"
   ]
  },
  {
   "cell_type": "markdown",
   "metadata": {},
   "source": [
    "Esto imprimirá cada clave y su valor en una línea separada:"
   ]
  },
  {
   "cell_type": "code",
   "execution_count": 22,
   "metadata": {},
   "outputs": [
    {
     "ename": "SyntaxError",
     "evalue": "invalid syntax (3609476818.py, line 1)",
     "output_type": "error",
     "traceback": [
      "\u001b[1;36m  Cell \u001b[1;32mIn[22], line 1\u001b[1;36m\u001b[0m\n\u001b[1;33m    Juan 16\u001b[0m\n\u001b[1;37m         ^\u001b[0m\n\u001b[1;31mSyntaxError\u001b[0m\u001b[1;31m:\u001b[0m invalid syntax\n"
     ]
    }
   ],
   "source": [
    "Juan 16\n",
    "Ana 18\n",
    "Luis 17"
   ]
  },
  {
   "cell_type": "markdown",
   "metadata": {},
   "source": [
    "También podemos utilizar el método items() para obtener una lista de tuplas clave:valor y luego iterar a través de ellas:"
   ]
  },
  {
   "cell_type": "code",
   "execution_count": 23,
   "metadata": {},
   "outputs": [
    {
     "name": "stdout",
     "output_type": "stream",
     "text": [
      "Juan 16\n",
      "Ana 18\n",
      "Luis 17\n"
     ]
    }
   ],
   "source": [
    "estudiantes = {'Juan': 16, 'Ana': 18, 'Luis': 17}\n",
    "for clave, valor in estudiantes.items():\n",
    "    print(clave, valor)"
   ]
  },
  {
   "cell_type": "markdown",
   "metadata": {},
   "source": [
    "Algunas otras operaciones útiles en diccionarios incluyen la verificación de pertenencia utilizando el operador in para verificar si una clave existe en el diccionario:"
   ]
  },
  {
   "cell_type": "code",
   "execution_count": 24,
   "metadata": {},
   "outputs": [
    {
     "name": "stdout",
     "output_type": "stream",
     "text": [
      "Ana es un estudiante\n"
     ]
    }
   ],
   "source": [
    "estudiantes = {'Juan': 16, 'Ana': 18, 'Luis': 17}\n",
    "if 'Ana' in estudiantes:\n",
    "    print('Ana es un estudiante')"
   ]
  },
  {
   "cell_type": "markdown",
   "metadata": {},
   "source": [
    "Y también podemos utilizar el método len() para obtener la cantidad de pares clave-valor en el diccionario:"
   ]
  },
  {
   "cell_type": "code",
   "execution_count": 25,
   "metadata": {},
   "outputs": [
    {
     "name": "stdout",
     "output_type": "stream",
     "text": [
      "3\n"
     ]
    }
   ],
   "source": [
    "estudiantes = {'Juan': 16, 'Ana': 18, 'Luis': 17}\n",
    "print(len(estudiantes)) # 3"
   ]
  }
 ],
 "metadata": {
  "kernelspec": {
   "display_name": "Python 3",
   "language": "python",
   "name": "python3"
  },
  "language_info": {
   "codemirror_mode": {
    "name": "ipython",
    "version": 3
   },
   "file_extension": ".py",
   "mimetype": "text/x-python",
   "name": "python",
   "nbconvert_exporter": "python",
   "pygments_lexer": "ipython3",
   "version": "3.12.3"
  }
 },
 "nbformat": 4,
 "nbformat_minor": 2
}
